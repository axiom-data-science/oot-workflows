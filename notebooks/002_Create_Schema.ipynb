{
 "cells": [
  {
   "cell_type": "code",
   "execution_count": 1,
   "metadata": {},
   "outputs": [],
   "source": [
    "import json\n",
    "\n",
    "from avro import schema\n",
    "from confluent_kafka.avro import CachedSchemaRegistryClient"
   ]
  },
  {
   "cell_type": "markdown",
   "metadata": {},
   "source": [
    "### Create the AVRO schema for trajectory inputs\n",
    "\n",
    "Rigth now there are generic, but you can image configuring all types of parameters here\n",
    "\n",
    "There schemas are designed to be backwards compatible so any future updates do not effect exisiting or deployed applications"
   ]
  },
  {
   "cell_type": "code",
   "execution_count": 2,
   "metadata": {},
   "outputs": [
    {
     "data": {
      "text/plain": [
       "1"
      ]
     },
     "execution_count": 2,
     "metadata": {},
     "output_type": "execute_result"
    }
   ],
   "source": [
    "schema_dict = {\n",
    "    \"name\": \"mil.darpa.oot.particles.releases\",\n",
    "    \"type\": \"record\",\n",
    "    \"doc\": \"A particle release\",\n",
    "    \"fields\": [\n",
    "        { \"name\": \"id\", \"type\": \"string\", \"doc\": \"Unique particle release identifier\"},\n",
    "        {\n",
    "            \"name\": \"records\",\n",
    "            \"type\": {\n",
    "                \"type\": \"array\",\n",
    "                \"items\": {\n",
    "                    \"type\": \"record\",\n",
    "                    \"name\": \"release\",\n",
    "                    \"fields\": [\n",
    "                        {\"name\": \"time\",       \"type\": \"string\",   \"doc\": \"ISO8601 Date String\"},\n",
    "                        {\"name\": \"lat\",        \"type\": \"double\",   \"doc\": \"wgs84 latitude\"},\n",
    "                        {\"name\": \"lon\",        \"type\": \"double\",   \"doc\": \"wgs84 longitude\"},\n",
    "                        {\"name\": \"nparticles\", \"type\": \"int\",      \"doc\": \"Number of particles released\"}\n",
    "                    ]\n",
    "                }\n",
    "            }\n",
    "        }\n",
    "    ]\n",
    "}\n",
    "\n",
    "\n",
    "kafka_base = 'kafka-int'\n",
    "subject = 'mil-darpa-oot-particle-releases-value'\n",
    "client = CachedSchemaRegistryClient(url=f'http://{kafka_base}:7002')\n",
    "client.update_compatibility('NONE', subject=subject)\n",
    "\n",
    "avro_schema = schema.Parse(json.dumps(schema_dict))\n",
    "client.register(subject, avro_schema)"
   ]
  },
  {
   "cell_type": "markdown",
   "metadata": {},
   "source": [
    "### Create the AVRO schema for successful trajectory results"
   ]
  },
  {
   "cell_type": "code",
   "execution_count": 3,
   "metadata": {},
   "outputs": [
    {
     "data": {
      "text/plain": [
       "3"
      ]
     },
     "execution_count": 3,
     "metadata": {},
     "output_type": "execute_result"
    }
   ],
   "source": [
    "schema_dict = {\n",
    "    \"name\": \"mil.darpa.oot.particles.completed\",\n",
    "    \"type\": \"record\",\n",
    "    \"doc\": \"particle simulation complete\",\n",
    "    \"fields\": [\n",
    "        {\"name\": \"id\", \"type\": \"string\", \"doc\": \"Unique particle release identifier\"},\n",
    "        {\"name\": \"filepath\", \"type\": \"string\",   \"doc\": \"Absolute path to particle simulation\"},\n",
    "    ]\n",
    "}\n",
    "\n",
    "\n",
    "kafka_base = 'kafka-int'\n",
    "subject = 'mil-darpa-oot-particle-completed-value'\n",
    "client = CachedSchemaRegistryClient(url=f'http://{kafka_base}:7002')\n",
    "client.update_compatibility('NONE', subject=subject)\n",
    "\n",
    "avro_schema = schema.Parse(json.dumps(schema_dict))\n",
    "client.register(subject, avro_schema)"
   ]
  },
  {
   "cell_type": "code",
   "execution_count": null,
   "metadata": {},
   "outputs": [],
   "source": []
  }
 ],
 "metadata": {
  "kernelspec": {
   "display_name": "Python 3",
   "language": "python",
   "name": "python3"
  },
  "language_info": {
   "codemirror_mode": {
    "name": "ipython",
    "version": 3
   },
   "file_extension": ".py",
   "mimetype": "text/x-python",
   "name": "python",
   "nbconvert_exporter": "python",
   "pygments_lexer": "ipython3",
   "version": "3.6.7"
  }
 },
 "nbformat": 4,
 "nbformat_minor": 2
}
