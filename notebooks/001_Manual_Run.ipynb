{
 "cells": [
  {
   "cell_type": "code",
   "execution_count": 12,
   "metadata": {},
   "outputs": [],
   "source": [
    "%matplotlib inline\n",
    "from parcels import FieldSet, ParticleSet, Variable, JITParticle, AdvectionRK4, AdvectionEE, plotTrajectoriesFile\n",
    "import numpy as np\n",
    "import math\n",
    "import cftime\n",
    "import datetime \n",
    "from operator import attrgetter\n",
    "\n",
    "import netCDF4 as nc\n",
    "import xarray as xr\n",
    "import pandas as pd\n",
    "\n",
    "from cartopy import crs"
   ]
  },
  {
   "cell_type": "markdown",
   "metadata": {},
   "source": [
    "### Load data from netCDF files"
   ]
  },
  {
   "cell_type": "code",
   "execution_count": 13,
   "metadata": {},
   "outputs": [],
   "source": [
    "ds = xr.open_mfdataset('../data/ncom_socal/socal_2017-01-0[0-9].nc')"
   ]
  },
  {
   "cell_type": "code",
   "execution_count": 14,
   "metadata": {},
   "outputs": [
    {
     "data": {
      "text/plain": [
       "<xarray.Dataset>\n",
       "Dimensions:  (lat: 454, lon: 424, time: 64)\n",
       "Coordinates:\n",
       "  * lon      (lon) float64 235.0 235.0 235.1 235.1 ... 249.0 249.0 249.1 249.1\n",
       "  * lat      (lat) float64 25.0 25.03 25.07 25.1 25.13 ... 40.0 40.03 40.07 40.1\n",
       "    depth    float64 0.0\n",
       "  * time     (time) datetime64[ns] 2017-01-01 ... 2017-01-09T21:00:00\n",
       "Data variables:\n",
       "    water_u  (time, lat, lon) float32 dask.array<shape=(64, 454, 424), chunksize=(8, 454, 424)>\n",
       "    water_v  (time, lat, lon) float32 dask.array<shape=(64, 454, 424), chunksize=(8, 454, 424)>\n",
       "Attributes:\n",
       "    title:                     NCOM Southern CA Regional Forecast (3km)\n",
       "    summary:                   The Regional NCOM models have a resolution of ...\n",
       "    keywords:                  OCEANS; OCEAN CIRCULATION; OCEAN CURRENTS, OCE...\n",
       "    keywords_vocabulary:       Olsen, L.M., G. Major, K. Shein, J. Scialdone,...\n",
       "    standard_name_vocabulary:  CF Standard Names Vocabulary V27\n",
       "    creator_url:               http://www7320.nrlssc.navy.mil/global_ncom/glb...\n",
       "    creator_email:             ncom_webmaster@nrlssc.navy.mil\n",
       "    publisher_name:            National Weather Service Ocean Prediction Center\n",
       "    publisher_url:             http://www.opc.ncep.noaa.gov/newNCOM/NCOM_curr...\n",
       "    publisher_email:           ncep.list.opc_web@noaa.gov\n",
       "    metadata_link:             http://www.opc.ncep.noaa.gov/newNCOM/NCOM_curr...\n",
       "    license:                   The source code and results of this model are ...\n",
       "    cdm_data_type:             grid"
      ]
     },
     "execution_count": 14,
     "metadata": {},
     "output_type": "execute_result"
    }
   ],
   "source": [
    "uv = ds[['water_u', 'water_v']]\n",
    "uv = uv.isel(depth=0)\n",
    "uv"
   ]
  },
  {
   "cell_type": "markdown",
   "metadata": {},
   "source": [
    "### Setup Input U/V Data"
   ]
  },
  {
   "cell_type": "code",
   "execution_count": 15,
   "metadata": {},
   "outputs": [],
   "source": [
    "variables = {\n",
    "    'U': 'water_u',\n",
    "    'V': 'water_v'\n",
    "}\n",
    "\n",
    "dimensions = {\n",
    "    'lat': 'lat',\n",
    "    'lon': 'lon',\n",
    "    'time': 'time'\n",
    "}"
   ]
  },
  {
   "cell_type": "code",
   "execution_count": 16,
   "metadata": {},
   "outputs": [],
   "source": [
    "xr_fieldset = FieldSet.from_xarray_dataset(\n",
    "    uv,\n",
    "    variables,\n",
    "    dimensions,\n",
    "    allow_time_extrapolation=True\n",
    ")"
   ]
  },
  {
   "cell_type": "code",
   "execution_count": 17,
   "metadata": {},
   "outputs": [],
   "source": [
    "xr_pset = ParticleSet.from_line(\n",
    "    fieldset=xr_fieldset,\n",
    "    pclass=JITParticle,\n",
    "    size=20,\n",
    "    start=(236, 28.8),\n",
    "    finish=(237, 28.8)\n",
    ")"
   ]
  },
  {
   "cell_type": "code",
   "execution_count": 18,
   "metadata": {},
   "outputs": [
    {
     "name": "stderr",
     "output_type": "stream",
     "text": [
      "INFO: Compiled JITParticleAdvectionRK4 ==> /tmp/parcels-1000/ef47601559a9168ebf1f1f4e051873b9.so\n",
      "100% (518400.0 of 518400.0) |############| Elapsed Time: 0:00:17 Time:  0:00:17\n"
     ]
    },
    {
     "data": {
      "image/png": "[encoded data removed]",
      "text/plain": [
       "<Figure size 432x288 with 1 Axes>"
      ]
     },
     "metadata": {
      "needs_background": "light"
     },
     "output_type": "display_data"
    },
    {
     "data": {
      "text/plain": [
       "<module 'matplotlib.pyplot' from '/opt/conda/lib/python3.6/site-packages/matplotlib/pyplot.py'>"
      ]
     },
     "execution_count": 18,
     "metadata": {},
     "output_type": "execute_result"
    }
   ],
   "source": [
    "runlength = datetime.timedelta(days=6)\n",
    "timestep = datetime.timedelta(minutes=5)\n",
    "output_file = '../data/particle_runs/NCOM_Particles_from_line.nc'\n",
    "output = xr_pset.ParticleFile(name=output_file, outputdt=datetime.timedelta(hours=3))\n",
    "\n",
    "xr_pset.execute(\n",
    "    AdvectionRK4,\n",
    "    runtime=runlength,\n",
    "    dt=timestep,\n",
    "    output_file=output\n",
    ")\n",
    "plotTrajectoriesFile(output_file)"
   ]
  },
  {
   "cell_type": "markdown",
   "metadata": {},
   "source": [
    "### Run from release config file"
   ]
  },
  {
   "cell_type": "code",
   "execution_count": 19,
   "metadata": {},
   "outputs": [],
   "source": [
    "def read_particle_csv(filename):\n",
    "    \"\"\"Given filename return dataframe of particles to release\"\"\"\n",
    "    df = pd.read_csv(filename,\n",
    "                       header=None, \n",
    "                       names=['time', 'lat', 'lon', 'nparticles'],\n",
    "                       parse_dates=[0],\n",
    "                       infer_datetime_format=True)\n",
    "    display(df)\n",
    "    # alter dataframe to account for nparticles\n",
    "    expanded_rows = []\n",
    "    for ix, row in df.iterrows():\n",
    "        expanded_rows.append(pd.concat([row]*row.nparticles, ignore_index=True, axis=1).T)\n",
    "    new_df = pd.concat(expanded_rows, axis=0).reset_index()\n",
    "    new_df = new_df.drop(columns=['index', 'nparticles'])\n",
    "    \n",
    "    return new_df"
   ]
  },
  {
   "cell_type": "code",
   "execution_count": 20,
   "metadata": {},
   "outputs": [
    {
     "data": {
      "text/html": [
       "<div>\n",
       "<style scoped>\n",
       "    .dataframe tbody tr th:only-of-type {\n",
       "        vertical-align: middle;\n",
       "    }\n",
       "\n",
       "    .dataframe tbody tr th {\n",
       "        vertical-align: top;\n",
       "    }\n",
       "\n",
       "    .dataframe thead th {\n",
       "        text-align: right;\n",
       "    }\n",
       "</style>\n",
       "<table border=\"1\" class=\"dataframe\">\n",
       "  <thead>\n",
       "    <tr style=\"text-align: right;\">\n",
       "      <th></th>\n",
       "      <th>time</th>\n",
       "      <th>lat</th>\n",
       "      <th>lon</th>\n",
       "      <th>nparticles</th>\n",
       "    </tr>\n",
       "  </thead>\n",
       "  <tbody>\n",
       "    <tr>\n",
       "      <th>0</th>\n",
       "      <td>2017-01-01 00:00:00</td>\n",
       "      <td>26.0</td>\n",
       "      <td>236.0</td>\n",
       "      <td>2</td>\n",
       "    </tr>\n",
       "    <tr>\n",
       "      <th>1</th>\n",
       "      <td>2017-01-01 12:00:00</td>\n",
       "      <td>26.5</td>\n",
       "      <td>236.5</td>\n",
       "      <td>4</td>\n",
       "    </tr>\n",
       "    <tr>\n",
       "      <th>2</th>\n",
       "      <td>2017-01-02 00:00:00</td>\n",
       "      <td>27.0</td>\n",
       "      <td>237.0</td>\n",
       "      <td>8</td>\n",
       "    </tr>\n",
       "    <tr>\n",
       "      <th>3</th>\n",
       "      <td>2017-01-02 12:00:00</td>\n",
       "      <td>27.5</td>\n",
       "      <td>237.5</td>\n",
       "      <td>16</td>\n",
       "    </tr>\n",
       "    <tr>\n",
       "      <th>4</th>\n",
       "      <td>2017-01-03 00:00:00</td>\n",
       "      <td>28.0</td>\n",
       "      <td>238.0</td>\n",
       "      <td>32</td>\n",
       "    </tr>\n",
       "    <tr>\n",
       "      <th>5</th>\n",
       "      <td>2017-01-03 12:00:00</td>\n",
       "      <td>28.5</td>\n",
       "      <td>238.5</td>\n",
       "      <td>64</td>\n",
       "    </tr>\n",
       "  </tbody>\n",
       "</table>\n",
       "</div>"
      ],
      "text/plain": [
       "                 time   lat    lon  nparticles\n",
       "0 2017-01-01 00:00:00  26.0  236.0           2\n",
       "1 2017-01-01 12:00:00  26.5  236.5           4\n",
       "2 2017-01-02 00:00:00  27.0  237.0           8\n",
       "3 2017-01-02 12:00:00  27.5  237.5          16\n",
       "4 2017-01-03 00:00:00  28.0  238.0          32\n",
       "5 2017-01-03 12:00:00  28.5  238.5          64"
      ]
     },
     "metadata": {},
     "output_type": "display_data"
    }
   ],
   "source": [
    "df = read_particle_csv('../data/particle_sample.csv')"
   ]
  },
  {
   "cell_type": "code",
   "execution_count": 21,
   "metadata": {},
   "outputs": [],
   "source": [
    "particle_times = cftime.date2num(\n",
    "    pd.DatetimeIndex(df.time).to_pydatetime(),\n",
    "    units='hours since 1970-01-01 00:00:00'\n",
    ")\n",
    "\n",
    "csv_pset = ParticleSet.from_list(\n",
    "    fieldset=xr_fieldset,\n",
    "    pclass=JITParticle,\n",
    "    lon=df.lon,\n",
    "    lat=df.lat,\n",
    "    time=particle_times\n",
    ")"
   ]
  },
  {
   "cell_type": "code",
   "execution_count": 22,
   "metadata": {},
   "outputs": [
    {
     "name": "stderr",
     "output_type": "stream",
     "text": [
      "INFO: Compiled JITParticleAdvectionRK4 ==> /tmp/parcels-1000/aa37b0cccd23339c22b15b81841d089d.so\n",
      "100% (518400.0 of 518400.0) |############| Elapsed Time: 0:00:10 Time:  0:00:10\n",
      "/opt/conda/lib/python3.6/site-packages/xarray/coding/times.py:92: RuntimeWarning: invalid value encountered in greater\n",
      "  only_use_cftime_datetimes=True))\n"
     ]
    },
    {
     "data": {
      "image/png": "[encoded data removed]",
      "text/plain": [
       "<Figure size 432x288 with 1 Axes>"
      ]
     },
     "metadata": {
      "needs_background": "light"
     },
     "output_type": "display_data"
    },
    {
     "data": {
      "text/plain": [
       "<module 'matplotlib.pyplot' from '/opt/conda/lib/python3.6/site-packages/matplotlib/pyplot.py'>"
      ]
     },
     "execution_count": 22,
     "metadata": {},
     "output_type": "execute_result"
    }
   ],
   "source": [
    "runlength = datetime.timedelta(days=6)\n",
    "timestep = datetime.timedelta(minutes=5)\n",
    "output_file = '../data/particle_runs/NCOM_Particles_from_config.nc'\n",
    "output = csv_pset.ParticleFile(name=output_file, outputdt=datetime.timedelta(hours=3))\n",
    "\n",
    "csv_pset.execute(\n",
    "    AdvectionRK4,\n",
    "    runtime=runlength,\n",
    "    dt=timestep,\n",
    "    output_file=output\n",
    ")\n",
    "plotTrajectoriesFile(output_file)"
   ]
  }
 ],
 "metadata": {
  "kernelspec": {
   "display_name": "Python 3",
   "language": "python",
   "name": "python3"
  },
  "language_info": {
   "codemirror_mode": {
    "name": "ipython",
    "version": 3
   },
   "file_extension": ".py",
   "mimetype": "text/x-python",
   "name": "python",
   "nbconvert_exporter": "python",
   "pygments_lexer": "ipython3",
   "version": "3.6.7"
  }
 },
 "nbformat": 4,
 "nbformat_minor": 2
}
