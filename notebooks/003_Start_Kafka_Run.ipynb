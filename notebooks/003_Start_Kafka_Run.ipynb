{
 "cells": [
  {
   "cell_type": "code",
   "execution_count": 1,
   "metadata": {},
   "outputs": [],
   "source": [
    "import pandas as pd\n",
    "from easyavro import EasyAvroProducer\n",
    "\n",
    "import logging\n",
    "L = logging.getLogger('easyavro')\n",
    "L.handlers = [logging.StreamHandler()]\n",
    "L.setLevel(logging.INFO)"
   ]
  },
  {
   "cell_type": "markdown",
   "metadata": {},
   "source": [
    "### Run from release config file"
   ]
  },
  {
   "cell_type": "code",
   "execution_count": 2,
   "metadata": {},
   "outputs": [
    {
     "data": {
      "text/html": [
       "<div>\n",
       "<style scoped>\n",
       "    .dataframe tbody tr th:only-of-type {\n",
       "        vertical-align: middle;\n",
       "    }\n",
       "\n",
       "    .dataframe tbody tr th {\n",
       "        vertical-align: top;\n",
       "    }\n",
       "\n",
       "    .dataframe thead th {\n",
       "        text-align: right;\n",
       "    }\n",
       "</style>\n",
       "<table border=\"1\" class=\"dataframe\">\n",
       "  <thead>\n",
       "    <tr style=\"text-align: right;\">\n",
       "      <th></th>\n",
       "      <th>time</th>\n",
       "      <th>lat</th>\n",
       "      <th>lon</th>\n",
       "      <th>nparticles</th>\n",
       "    </tr>\n",
       "  </thead>\n",
       "  <tbody>\n",
       "    <tr>\n",
       "      <th>0</th>\n",
       "      <td>2017-01-01 00:00:00</td>\n",
       "      <td>26.0</td>\n",
       "      <td>236.0</td>\n",
       "      <td>2</td>\n",
       "    </tr>\n",
       "    <tr>\n",
       "      <th>1</th>\n",
       "      <td>2017-01-01 12:00:00</td>\n",
       "      <td>26.5</td>\n",
       "      <td>236.5</td>\n",
       "      <td>4</td>\n",
       "    </tr>\n",
       "    <tr>\n",
       "      <th>2</th>\n",
       "      <td>2017-01-02 00:00:00</td>\n",
       "      <td>27.0</td>\n",
       "      <td>237.0</td>\n",
       "      <td>8</td>\n",
       "    </tr>\n",
       "    <tr>\n",
       "      <th>3</th>\n",
       "      <td>2017-01-02 12:00:00</td>\n",
       "      <td>27.5</td>\n",
       "      <td>237.5</td>\n",
       "      <td>16</td>\n",
       "    </tr>\n",
       "    <tr>\n",
       "      <th>4</th>\n",
       "      <td>2017-01-03 00:00:00</td>\n",
       "      <td>28.0</td>\n",
       "      <td>238.0</td>\n",
       "      <td>32</td>\n",
       "    </tr>\n",
       "    <tr>\n",
       "      <th>5</th>\n",
       "      <td>2017-01-03 12:00:00</td>\n",
       "      <td>28.5</td>\n",
       "      <td>238.5</td>\n",
       "      <td>64</td>\n",
       "    </tr>\n",
       "  </tbody>\n",
       "</table>\n",
       "</div>"
      ],
      "text/plain": [
       "                 time   lat    lon  nparticles\n",
       "0 2017-01-01 00:00:00  26.0  236.0           2\n",
       "1 2017-01-01 12:00:00  26.5  236.5           4\n",
       "2 2017-01-02 00:00:00  27.0  237.0           8\n",
       "3 2017-01-02 12:00:00  27.5  237.5          16\n",
       "4 2017-01-03 00:00:00  28.0  238.0          32\n",
       "5 2017-01-03 12:00:00  28.5  238.5          64"
      ]
     },
     "execution_count": 2,
     "metadata": {},
     "output_type": "execute_result"
    }
   ],
   "source": [
    "df = pd.read_csv(\n",
    "    '../data/particle_sample.csv',\n",
    "    header=None,\n",
    "    names=['time', 'lat', 'lon', 'nparticles'],\n",
    "    parse_dates=[0],\n",
    "    infer_datetime_format=True\n",
    ")\n",
    "df"
   ]
  },
  {
   "cell_type": "code",
   "execution_count": 3,
   "metadata": {},
   "outputs": [
    {
     "data": {
      "text/plain": [
       "[{'time': '2017-01-01T00:00:00', 'lat': 26.0, 'lon': 236.0, 'nparticles': 2},\n",
       " {'time': '2017-01-01T12:00:00', 'lat': 26.5, 'lon': 236.5, 'nparticles': 4},\n",
       " {'time': '2017-01-02T00:00:00', 'lat': 27.0, 'lon': 237.0, 'nparticles': 8},\n",
       " {'time': '2017-01-02T12:00:00', 'lat': 27.5, 'lon': 237.5, 'nparticles': 16},\n",
       " {'time': '2017-01-03T00:00:00', 'lat': 28.0, 'lon': 238.0, 'nparticles': 32},\n",
       " {'time': '2017-01-03T12:00:00', 'lat': 28.5, 'lon': 238.5, 'nparticles': 64}]"
      ]
     },
     "execution_count": 3,
     "metadata": {},
     "output_type": "execute_result"
    }
   ],
   "source": [
    "records_to_send = []\n",
    "for i, x in df.iterrows():\n",
    "    x.time = x.time.isoformat()\n",
    "    records_to_send.append(x.to_dict())\n",
    "records_to_send"
   ]
  },
  {
   "cell_type": "code",
   "execution_count": 7,
   "metadata": {},
   "outputs": [
    {
     "data": {
      "text/plain": [
       "[(None,\n",
       "  {'id': 'notebook-run',\n",
       "   'records': [{'time': '2017-01-01T00:00:00',\n",
       "     'lat': 26.0,\n",
       "     'lon': 236.0,\n",
       "     'nparticles': 2},\n",
       "    {'time': '2017-01-01T12:00:00',\n",
       "     'lat': 26.5,\n",
       "     'lon': 236.5,\n",
       "     'nparticles': 4},\n",
       "    {'time': '2017-01-02T00:00:00',\n",
       "     'lat': 27.0,\n",
       "     'lon': 237.0,\n",
       "     'nparticles': 8},\n",
       "    {'time': '2017-01-02T12:00:00',\n",
       "     'lat': 27.5,\n",
       "     'lon': 237.5,\n",
       "     'nparticles': 16},\n",
       "    {'time': '2017-01-03T00:00:00',\n",
       "     'lat': 28.0,\n",
       "     'lon': 238.0,\n",
       "     'nparticles': 32},\n",
       "    {'time': '2017-01-03T12:00:00',\n",
       "     'lat': 28.5,\n",
       "     'lon': 238.5,\n",
       "     'nparticles': 64}]})]"
      ]
     },
     "metadata": {},
     "output_type": "display_data"
    },
    {
     "name": "stderr",
     "output_type": "stream",
     "text": [
      "1/1 messages\n",
      "Done producing\n"
     ]
    }
   ],
   "source": [
    "kafka_base = 'kafka-int'\n",
    "p = EasyAvroProducer(\n",
    "    schema_registry_url=f'http://{kafka_base}:7002',\n",
    "    kafka_brokers=[f'{kafka_base}:7001'],\n",
    "    kafka_topic='mil-darpa-oot-particle-releases',\n",
    "    key_schema='nokey'\n",
    ")\n",
    "\n",
    "to_send = [(\n",
    "    None,\n",
    "    {\n",
    "        'id': 'notebook-run',\n",
    "        'records': records_to_send\n",
    "    }\n",
    ")]\n",
    "display(to_send)\n",
    "p.produce(to_send)"
   ]
  },
  {
   "cell_type": "code",
   "execution_count": null,
   "metadata": {},
   "outputs": [],
   "source": []
  }
 ],
 "metadata": {
  "kernelspec": {
   "display_name": "Python 3",
   "language": "python",
   "name": "python3"
  },
  "language_info": {
   "codemirror_mode": {
    "name": "ipython",
    "version": 3
   },
   "file_extension": ".py",
   "mimetype": "text/x-python",
   "name": "python",
   "nbconvert_exporter": "python",
   "pygments_lexer": "ipython3",
   "version": "3.6.7"
  }
 },
 "nbformat": 4,
 "nbformat_minor": 2
}
